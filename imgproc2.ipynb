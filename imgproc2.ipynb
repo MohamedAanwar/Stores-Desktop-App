{
 "cells": [
  {
   "cell_type": "code",
   "execution_count": 1,
   "id": "2a64702a",
   "metadata": {},
   "outputs": [],
   "source": [
    "import cv2"
   ]
  },
  {
   "cell_type": "code",
   "execution_count": 9,
   "id": "0f7adf2e",
   "metadata": {},
   "outputs": [],
   "source": [
    "#Import photo\n",
    "cimg=cv2.imread(\"D:/reposPython/Improc2/peppers.jpg\")"
   ]
  },
  {
   "cell_type": "code",
   "execution_count": 16,
   "id": "cfab637f",
   "metadata": {},
   "outputs": [],
   "source": [
    "#Show image\n",
    "\n",
    "cv2.imshow('color image',cimg)\n",
    "cv2.waitKey()\n",
    "cv2.destroyAllWindows()"
   ]
  },
  {
   "cell_type": "code",
   "execution_count": 17,
   "id": "f95c7f83",
   "metadata": {},
   "outputs": [
    {
     "data": {
      "text/plain": [
       "(384, 512, 3)"
      ]
     },
     "execution_count": 17,
     "metadata": {},
     "output_type": "execute_result"
    }
   ],
   "source": [
    "cimg.shape"
   ]
  },
  {
   "cell_type": "code",
   "execution_count": 18,
   "id": "f55beb65",
   "metadata": {},
   "outputs": [],
   "source": [
    "width= cimg.shape[0]"
   ]
  },
  {
   "cell_type": "code",
   "execution_count": 19,
   "id": "82df79d7",
   "metadata": {},
   "outputs": [
    {
     "data": {
      "text/plain": [
       "384"
      ]
     },
     "execution_count": 19,
     "metadata": {},
     "output_type": "execute_result"
    }
   ],
   "source": [
    "width"
   ]
  },
  {
   "cell_type": "code",
   "execution_count": 28,
   "id": "eaf989f9",
   "metadata": {},
   "outputs": [],
   "source": [
    "#Convert to gray\n",
    "\n",
    "gray_img=cv2.cvtColor(cimg,cv2.COLOR_BGR2GRAY)\n",
    "cv2.imshow('gray image',gray_img)\n",
    "cv2.waitKey()\n",
    "cv2.destroyAllWindows()"
   ]
  },
  {
   "cell_type": "code",
   "execution_count": 29,
   "id": "c50c9320",
   "metadata": {},
   "outputs": [
    {
     "data": {
      "text/plain": [
       "dtype('uint8')"
      ]
     },
     "execution_count": 29,
     "metadata": {},
     "output_type": "execute_result"
    }
   ],
   "source": [
    "cimg.dtype"
   ]
  },
  {
   "cell_type": "code",
   "execution_count": 30,
   "id": "c5e2e7cc",
   "metadata": {},
   "outputs": [],
   "source": [
    "w,h=cimg.shape[:2]"
   ]
  },
  {
   "cell_type": "code",
   "execution_count": 31,
   "id": "efecb14b",
   "metadata": {},
   "outputs": [
    {
     "data": {
      "text/plain": [
       "384"
      ]
     },
     "execution_count": 31,
     "metadata": {},
     "output_type": "execute_result"
    }
   ],
   "source": [
    "w"
   ]
  },
  {
   "cell_type": "code",
   "execution_count": 32,
   "id": "2854ff3a",
   "metadata": {},
   "outputs": [
    {
     "data": {
      "text/plain": [
       "512"
      ]
     },
     "execution_count": 32,
     "metadata": {},
     "output_type": "execute_result"
    }
   ],
   "source": [
    "h"
   ]
  },
  {
   "cell_type": "code",
   "execution_count": 33,
   "id": "7393e191",
   "metadata": {},
   "outputs": [],
   "source": [
    "#Resize image\n",
    "\n",
    "newW=175\n",
    "newH=250\n",
    "resized_img=cv2.resize(cimg,(newW,newH))\n",
    "cv2.imshow('resized image',resized_img)\n",
    "cv2.waitKey()\n",
    "cv2.destroyAllWindows()"
   ]
  },
  {
   "cell_type": "code",
   "execution_count": 35,
   "id": "52a294aa",
   "metadata": {},
   "outputs": [
    {
     "data": {
      "text/plain": [
       "True"
      ]
     },
     "execution_count": 35,
     "metadata": {},
     "output_type": "execute_result"
    }
   ],
   "source": [
    "#Save image\n",
    "\n",
    "cv2.imwrite('Resized_image.png',resized_img)"
   ]
  },
  {
   "cell_type": "code",
   "execution_count": 43,
   "id": "3bb66c06",
   "metadata": {},
   "outputs": [],
   "source": [
    "#Rotate image\n",
    "\n",
    "#angle=45  #عكس عقارب الساعة\n",
    "angle=-45 #مع عقارب الساعة\n",
    "center=(gray_img.shape[0]//2,gray_img.shape[1]//2)\n",
    "\n",
    "rotation_mat=cv2.getRotationMatrix2D(center,angle,1.0)\n",
    "rotated_img=cv2.warpAffine(gray_img,rotation_mat,(gray_img.shape[0],gray_img.shape[1]))\n",
    "cv2.imshow('rotated image',rotated_img)\n",
    "cv2.waitKey()\n",
    "cv2.destroyAllWindows()"
   ]
  },
  {
   "cell_type": "code",
   "execution_count": 47,
   "id": "900623cc",
   "metadata": {},
   "outputs": [],
   "source": [
    "#Translation image\n",
    "\n",
    "import numpy as np\n",
    "trans_mat=np.float32([[1,0,50],[0,1,100]])\n",
    "trans_img=cv2.warpAffine(gray_img,trans_mat,(gray_img.shape[0],gray_img.shape[1]))\n",
    "cv2.imshow('transleted image',trans_img)\n",
    "cv2.waitKey()\n",
    "cv2.destroyAllWindows()"
   ]
  },
  {
   "cell_type": "code",
   "execution_count": null,
   "id": "6b2ee3ff",
   "metadata": {},
   "outputs": [],
   "source": []
  }
 ],
 "metadata": {
  "kernelspec": {
   "display_name": "Python 3 (ipykernel)",
   "language": "python",
   "name": "python3"
  },
  "language_info": {
   "codemirror_mode": {
    "name": "ipython",
    "version": 3
   },
   "file_extension": ".py",
   "mimetype": "text/x-python",
   "name": "python",
   "nbconvert_exporter": "python",
   "pygments_lexer": "ipython3",
   "version": "3.11.5"
  }
 },
 "nbformat": 4,
 "nbformat_minor": 5
}
